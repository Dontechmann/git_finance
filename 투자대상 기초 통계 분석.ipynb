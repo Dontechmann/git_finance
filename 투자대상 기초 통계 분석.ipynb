{
 "cells": [
  {
   "cell_type": "code",
   "execution_count": null,
   "id": "87daba38",
   "metadata": {},
   "outputs": [],
   "source": [
    "SYMBOL = '^GSPC'"
   ]
  },
  {
   "cell_type": "code",
   "execution_count": null,
   "id": "ceed26d9",
   "metadata": {},
   "outputs": [],
   "source": [
    "%matplotlib inline\n",
    "%config InlineBackend.figure_format = 'retina'"
   ]
  },
  {
   "cell_type": "code",
   "execution_count": null,
   "id": "68e8605b",
   "metadata": {},
   "outputs": [],
   "source": [
    "import matplotlib.pyplot as plt\n",
    "import warnings\n",
    "\n",
    "plt.style.use('seaborn')\n",
    "plt.rcParams['figure.figsize'] = [16,9]\n",
    "plt.rcParams['figure.dpi'] = 300\n",
    "warnings.simplefilter(action = 'ignore', category = FutureWarning)"
   ]
  },
  {
   "cell_type": "code",
   "execution_count": null,
   "id": "7d9e00a0",
   "metadata": {},
   "outputs": [],
   "source": [
    "import pandas as pd\n",
    "import numpy as np\n",
    "import yfinance as yf"
   ]
  },
  {
   "cell_type": "code",
   "execution_count": null,
   "id": "f8311037",
   "metadata": {},
   "outputs": [],
   "source": [
    "df = yf.download(SYMBOL,\n",
    "                start = '2020-01-01',\n",
    "                end = '2022-12-31',\n",
    "                progress = False)"
   ]
  },
  {
   "cell_type": "code",
   "execution_count": null,
   "id": "b86ae4ef",
   "metadata": {},
   "outputs": [],
   "source": [
    "df = df.loc[:,[\"Adj Close\"]]\n",
    "df.rename(columns = {\"Adj Close\" : \"adj_close\"}, inplace =True)"
   ]
  },
  {
   "cell_type": "code",
   "execution_count": null,
   "id": "07453d0f",
   "metadata": {},
   "outputs": [],
   "source": [
    "df['simple_rtn'] = df.adj_close.pct_change()\n",
    "df['log_rtn']=np.log(df.adj_close/df.adj_close.shift(1))\n",
    "\n",
    "#df.drop('adj_close', axis = 1, inplace = True)\n",
    "df.dropna(how = 'any', inplace = True)\n",
    "df.head()"
   ]
  },
  {
   "cell_type": "code",
   "execution_count": null,
   "id": "eef5678e",
   "metadata": {},
   "outputs": [],
   "source": [
    "# 실현변동성 주기를 주(Week)로 했고, 연환산하고자 값에 루트 52(일년 Week의 개수)를 곱했다.\n",
    "def realized_volatility(x):\n",
    "    return np.sqrt(np.sum(x**2))\n",
    "df_rv = df.groupby(pd.Grouper(freq = 'D')).apply(realized_volatility)\n",
    "df_rv.rename(columns = {'log_rtn' : 'rv'}, inplace = True)\n",
    "df_rv.rv = df_rv.rv * np.sqrt(250)\n",
    "\n",
    "\n",
    "fig, ax = plt.subplots(4, 1, figsize=(11, 9), sharex=True)\n",
    "\n",
    "df.adj_close.plot(ax = ax[0])\n",
    "ax[0].set(title = SYMBOL + \" Time Series\",\n",
    "         ylabel = 'Stock Price($)')\n",
    "\n",
    "df.simple_rtn.plot(ax = ax[1])\n",
    "ax[1].set(ylabel = 'Simple Returns(%)')\n",
    "\n",
    "ax[2].plot(df.log_rtn)\n",
    "ax[2].set(ylabel = 'Log Returns(%)')\n",
    "\n",
    "ax[3].plot(df_rv.rv)\n",
    "ax[3].set(ylabel = 'Realized_Volatility\\n(Annualized)')\n",
    "\n",
    "ax[3].tick_params(axis = 'x',\n",
    "                 which = 'major',\n",
    "                  labelsize = 12)\n"
   ]
  },
  {
   "cell_type": "code",
   "execution_count": null,
   "id": "4085dc6c",
   "metadata": {},
   "outputs": [],
   "source": [
    "df.head()"
   ]
  },
  {
   "cell_type": "code",
   "execution_count": null,
   "id": "8e76cb8e",
   "metadata": {},
   "outputs": [],
   "source": [
    "import cufflinks as cf\n",
    "from plotly.offline import iplot, init_notebook_mode\n",
    "\n",
    "cf.set_config_file(world_readable=True, theme='pearl', offline=True)\n",
    "\n",
    "init_notebook_mode()"
   ]
  },
  {
   "cell_type": "code",
   "execution_count": null,
   "id": "7cc45e5e",
   "metadata": {},
   "outputs": [],
   "source": [
    "df.iplot(subplots = True, shape = (3,1), shared_xaxes = True, title = SYMBOL + \" Time Series\")"
   ]
  },
  {
   "cell_type": "code",
   "execution_count": null,
   "id": "17721515",
   "metadata": {},
   "outputs": [],
   "source": [
    "#Outlier(특이값) 찾기\n",
    "df_rolling = df[['simple_rtn']].rolling(window=21).agg(['mean', 'std']) #지난 21일치 데이터를 사용해 이동평균과 표준편차를 계산\n",
    "df_rolling.columns = df_rolling.columns.droplevel()"
   ]
  },
  {
   "cell_type": "code",
   "execution_count": null,
   "id": "e15ccc32",
   "metadata": {},
   "outputs": [],
   "source": [
    "df_outliers = df.join(df_rolling)"
   ]
  },
  {
   "cell_type": "code",
   "execution_count": null,
   "id": "c08f2ba5",
   "metadata": {},
   "outputs": [],
   "source": [
    "def identify_outliers(row, n_sigmas = 2):\n",
    "    x = row['simple_rtn']\n",
    "    mu = row['mean']\n",
    "    sigma = row['std']\n",
    "    if (x > mu + 2 * sigma) | (x < mu - 2 * sigma):\n",
    "        return 1\n",
    "    else:\n",
    "        return 0"
   ]
  },
  {
   "cell_type": "code",
   "execution_count": null,
   "id": "21d7abf5",
   "metadata": {},
   "outputs": [],
   "source": [
    "df_outliers['outlier'] = df_outliers.apply(identify_outliers, axis = 1)\n",
    "outliers = df_outliers.loc[df_outliers['outlier'] == 1, ['simple_rtn']]"
   ]
  },
  {
   "cell_type": "code",
   "execution_count": null,
   "id": "8ffb5d0e",
   "metadata": {},
   "outputs": [],
   "source": [
    "fig, ax = plt.subplots()\n",
    "ax.plot(df_outliers.index, df_outliers.simple_rtn, color = 'blue', label = 'Normal')\n",
    "ax.scatter(outliers.index, outliers.simple_rtn, color = 'red', label = 'Anomaly')\n",
    "ax.set_title(SYMBOL + \" Stock Returns\")\n",
    "ax.legend(loc = 'lower right')"
   ]
  },
  {
   "cell_type": "code",
   "execution_count": null,
   "id": "08f22a89",
   "metadata": {},
   "outputs": [],
   "source": [
    "import pandas as pd\n",
    "import numpy as np\n",
    "import yfinance as yf\n",
    "import seaborn as sns\n",
    "import scipy.stats as scs\n",
    "import statsmodels.api as sm\n",
    "import statsmodels.tsa.api as smt"
   ]
  },
  {
   "cell_type": "code",
   "execution_count": null,
   "id": "70a1ee3e",
   "metadata": {},
   "outputs": [],
   "source": [
    "r_range = np.linspace(min(df.log_rtn), max(df.log_rtn), num = 1000)\n",
    "mu = df.log_rtn.mean()\n",
    "sigma = df.log_rtn.std()\n",
    "norm_pdf = scs.norm.pdf(r_range, loc = mu, scale = sigma)"
   ]
  },
  {
   "cell_type": "code",
   "execution_count": null,
   "id": "9d8bb98d",
   "metadata": {},
   "outputs": [],
   "source": [
    "fig, ax = plt.subplots(1, 2, figsize = (16,8))\n",
    "# Histogram\n",
    "sns.distplot(df.log_rtn, kde = False, norm_hist = True, ax = ax[0])\n",
    "ax[0].set_title('Distribution of ' + SYMBOL +' Returns', fontsize = 16)\n",
    "ax[0].plot(r_range, norm_pdf, 'g', lw = 2, label = f'N({mu:.2f}, {sigma**2:.4f})')\n",
    "ax[0].legend(loc = 'upper left');\n",
    "#QQ plot\n",
    "qq = sm.qqplot(df.log_rtn.values, line = 's', ax = ax[1])\n",
    "ax[1].set_title('Q-Q Plot', fontsize = 16)\n",
    "plt.show()"
   ]
  },
  {
   "cell_type": "code",
   "execution_count": null,
   "id": "d2a4568b",
   "metadata": {},
   "outputs": [],
   "source": [
    "jb_test = scs.jarque_bera(df.log_rtn.values)\n",
    "\n",
    "print('---------- Descriptive Statistics ----------')\n",
    "print('Range of dates:', min(df.index.date), '-', max(df.index.date))\n",
    "print('Number of observations:', df.shape[0])\n",
    "print(f'Mean: {df.log_rtn.mean():.4f}')\n",
    "print(f'Median: {df.log_rtn.median():.4f}')\n",
    "print(f'Min: {df.log_rtn.min():.4f}')\n",
    "print(f'Max: {df.log_rtn.max():.4f}')\n",
    "print(f'Standard Deviation: {df.log_rtn.std():.4f}')\n",
    "print(f'Skewness: {df.log_rtn.skew():.4f}')\n",
    "print(f'Kurtosis: {df.log_rtn.kurtosis():.4f}') \n",
    "print(f'Jarque-Bera statistic: {jb_test[0]:.2f} with p-value: {jb_test[1]:.2f}')"
   ]
  },
  {
   "cell_type": "code",
   "execution_count": null,
   "id": "04a7d059",
   "metadata": {},
   "outputs": [],
   "source": [
    "# Volatility Clustering\n",
    "df.log_rtn.plot(title = \"Daily \" + SYMBOL + \" Returns\", figsize = (10,6))\n",
    "plt.show()"
   ]
  },
  {
   "cell_type": "code",
   "execution_count": null,
   "id": "941635f1",
   "metadata": {},
   "outputs": [],
   "source": [
    "#수익률의 자기 상관 부재\n",
    "N_LAGS = 50\n",
    "SIGNIFICANCE_LEVEL = 0.05"
   ]
  },
  {
   "cell_type": "code",
   "execution_count": null,
   "id": "ebadb3c1",
   "metadata": {},
   "outputs": [],
   "source": [
    "acf = smt.graphics.plot_acf(df.log_rtn, lags = N_LAGS, alpha = SIGNIFICANCE_LEVEL)"
   ]
  },
  {
   "cell_type": "code",
   "execution_count": null,
   "id": "17477a53",
   "metadata": {},
   "outputs": [],
   "source": [
    "df['moving_std_252'] = df[['log_rtn']].rolling(window=252).std()\n",
    "df['moving_std_21'] = df[['log_rtn']].rolling(window=21).std()"
   ]
  },
  {
   "cell_type": "code",
   "execution_count": null,
   "id": "579fd856",
   "metadata": {},
   "outputs": [],
   "source": [
    "fig, ax = plt.subplots(3, 1, figsize=(18, 15), sharex=True)\n",
    "\n",
    "df.adj_close.plot(ax=ax[0])\n",
    "ax[0].set(title=SYMBOL+' Time Series', ylabel='Price ($)')\n",
    "\n",
    "df.log_rtn.plot(ax=ax[1])\n",
    "ax[1].set(ylabel='Log returns (%)')\n",
    "\n",
    "df.moving_std_252.plot(ax=ax[2], color='r', \n",
    "                       label='Moving Volatility 252d')\n",
    "df.moving_std_21.plot(ax=ax[2], color='g', \n",
    "                      label='Moving Volatility 21d')\n",
    "ax[2].set(ylabel='Moving Volatility',\n",
    "          xlabel='Date')\n",
    "ax[2].legend()\n",
    "\n",
    "plt.show()"
   ]
  },
  {
   "cell_type": "code",
   "execution_count": null,
   "id": "05caabdd",
   "metadata": {},
   "outputs": [],
   "source": [
    "# 상관관계(S&P500와 VIX)\n",
    "df = yf.download(['SOXL', '^VIX'], \n",
    "                 start='2020-01-01', \n",
    "                 end='2022-12-31',\n",
    "                 progress=False)\n",
    "df = df[['Adj Close']]\n",
    "df.columns = df.columns.droplevel(0)\n",
    "df = df.rename(columns={'SOXL' : 'soxl', '^VIX' : 'vix'})"
   ]
  },
  {
   "cell_type": "code",
   "execution_count": null,
   "id": "e7fc3ed1",
   "metadata": {},
   "outputs": [],
   "source": [
    "df['log_rtn'] = np.log(df.soxl / df.soxl.shift(1))\n",
    "df['vol_rtn'] = np.log(df.vix / df.vix.shift(1))\n",
    "df.dropna(how='any', axis=0, inplace=True)"
   ]
  },
  {
   "cell_type": "code",
   "execution_count": null,
   "id": "0c845146",
   "metadata": {},
   "outputs": [],
   "source": [
    "corr_coeff = df.log_rtn.corr(df.vol_rtn)\n",
    "ax = sns.regplot(x = 'log_rtn', y = 'vol_rtn', data = df,\n",
    "                line_kws = {'color':'red'})\n",
    "ax.set(title = f'SOXL vs. VIX ($\\\\rho$ = {corr_coeff:.2f})',\n",
    "      ylabel = 'VIX Log Returns',\n",
    "      xlabel = 'SOXL Log Returns')"
   ]
  }
 ],
 "metadata": {
  "kernelspec": {
   "display_name": "Python 3 (ipykernel)",
   "language": "python",
   "name": "python3"
  },
  "language_info": {
   "codemirror_mode": {
    "name": "ipython",
    "version": 3
   },
   "file_extension": ".py",
   "mimetype": "text/x-python",
   "name": "python",
   "nbconvert_exporter": "python",
   "pygments_lexer": "ipython3",
   "version": "3.9.7"
  }
 },
 "nbformat": 4,
 "nbformat_minor": 5
}
